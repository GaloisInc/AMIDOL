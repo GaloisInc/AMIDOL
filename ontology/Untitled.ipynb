{
 "cells": [
  {
   "cell_type": "code",
   "execution_count": 64,
   "metadata": {},
   "outputs": [
    {
     "name": "stdout",
     "output_type": "stream",
     "text": [
      "(0, 100005, u'SNOMED RT Version 1.0 Concept;SNOMED RT Concept;SNOMED RT Version 1.1 Concept;SNOMED RT Concept;SNOMED RT Concept (special concept)', u'', u'', u'')\n",
      "(1, 101009, u'Quilonia ethiopica;Quilonia ethiopica (organism)', u'', u'44476', u'')\n",
      "(2, 102002, u'Hemoglobin Okaloosa;Hb 48(CD7), Leu-arg;Haemoglobin Okaloosa;Hemoglobin Okaloosa (substance)', u'', u'40729', u'')\n",
      "(3, 103007, u'Squirrel fibroma virus;Squirrel fibroma virus (organism)', u'', u'71409', u'')\n",
      "(4, 104001, u'Excision of lesion of patella;Local excision of lesion or tissue of patella;Excision of lesion of patella (procedure)', u'25422', u'119954,68369,318843,328921,122381,122589,6140', u'')\n",
      "(5, 105000, u'Poisoning by pharmaceutical excipient;Poisoning by pharmaceutical excipient, NOS;Poisoning by pharmaceutical excipient (disorder)', u'', u'7795', u'')\n",
      "(6, 106004, u'Posterior carpal region;Structure of posterior carpal region;Structure of posterior carpal region (body structure)', u'323966', u'8105', u'')\n",
      "(7, 107008, u'Fetal part of placenta;Foetal part of placenta;Structure of fetal part of placenta;Structure of fetal part of placenta (body structure);Structure of foetal part of placenta', u'246944', u'114735', u'')\n",
      "(8, 108003, u'Condylar emissary vein;Entire condylar emissary vein;Entire condylar emissary vein (body structure)', u'', u'59089,146600', u'')\n",
      "(9, 109006, u'Anxiety disorder of childhood OR adolescence;Anxiety disorder of childhood or adolescence, NOS;Anxiety disorder of childhood OR adolescence (disorder)', u'13338,37767,37771,53365,64063,83151,90688', u'188556,259570,107104', u'')\n"
     ]
    }
   ],
   "source": [
    "import pandas as pd\n",
    "import sqlite3\n",
    "from tqdm import tqdm_notebook\n",
    "\n",
    "dbFile = \"AMIDOL-SNOMED.sqlite3\"\n",
    "dbTable = \"snomed\"\n",
    "\n",
    "conn = sqlite3.connect(dbFile)\n",
    "\n",
    "curr = conn.cursor()\n",
    "\n",
    "results = curr.execute(\n",
    "    '''\n",
    "\n",
    "    ''').fetchall()\n",
    "\n",
    "for result in results:\n",
    "    print(result)\n",
    "\n",
    "conn.close()"
   ]
  },
  {
   "cell_type": "code",
   "execution_count": null,
   "metadata": {},
   "outputs": [],
   "source": []
  },
  {
   "cell_type": "code",
   "execution_count": null,
   "metadata": {},
   "outputs": [],
   "source": []
  },
  {
   "cell_type": "code",
   "execution_count": null,
   "metadata": {},
   "outputs": [],
   "source": []
  }
 ],
 "metadata": {
  "kernelspec": {
   "display_name": "Python 3",
   "language": "python",
   "name": "python3"
  },
  "language_info": {
   "codemirror_mode": {
    "name": "ipython",
    "version": 2
   },
   "file_extension": ".py",
   "mimetype": "text/x-python",
   "name": "python",
   "nbconvert_exporter": "python",
   "pygments_lexer": "ipython2",
   "version": "2.7.15"
  }
 },
 "nbformat": 4,
 "nbformat_minor": 2
}
