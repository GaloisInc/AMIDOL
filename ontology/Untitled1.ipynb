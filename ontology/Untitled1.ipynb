{
 "cells": [
  {
   "cell_type": "code",
   "execution_count": 6,
   "metadata": {},
   "outputs": [],
   "source": [
    "import sqlite3\n",
    "\n",
    "def strToSqlSearch(theStr):\n",
    "    return(\"%\" + theStr + \"%\")\n",
    "\n",
    "dbFile = \"AMIDOL-SNOMED.sqlite3\"\n",
    "dbTable = \"snomed\"\n",
    "\n",
    "searchTerm = \"population\"\n",
    "\n",
    "conn = sqlite3.connect(dbFile)\n",
    "\n",
    "curr = conn.cursor()\n",
    "\n",
    "curr.execute('UPDATE snomed SET annotations = ? WHERE code = 41146007', ['bacterium.template'])\n",
    "\n",
    "conn.commit()\n",
    "\n",
    "#results = curr.execute('SELECT id FROM snomed WHERE code = 49872002').fetchone()\n",
    "\n",
    "conn.close()"
   ]
  }
 ],
 "metadata": {
  "kernelspec": {
   "display_name": "Python 3",
   "language": "python",
   "name": "python3"
  },
  "language_info": {
   "codemirror_mode": {
    "name": "ipython",
    "version": 2
   },
   "file_extension": ".py",
   "mimetype": "text/x-python",
   "name": "python",
   "nbconvert_exporter": "python",
   "pygments_lexer": "ipython2",
   "version": "2.7.15"
  }
 },
 "nbformat": 4,
 "nbformat_minor": 2
}
