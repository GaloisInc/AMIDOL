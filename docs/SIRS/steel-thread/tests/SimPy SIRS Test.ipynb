{
 "cells": [
  {
   "cell_type": "code",
   "execution_count": 3,
   "metadata": {},
   "outputs": [
    {
     "name": "stdout",
     "output_type": "stream",
     "text": [
      "Start f_1 at 0\n",
      "Start f_2 at 5\n",
      "Start f_1 at 7\n",
      "Start f_2 at 12\n",
      "Start f_1 at 14\n"
     ]
    }
   ],
   "source": [
    "import numpy as np\n",
    "import simpy\n",
    "\n",
    "S_Pcinfect_S = 51999999\n",
    "ScinfectcI_Scinfect_IcI_Pccure_I = 1\n",
    "ScinfectcIccure_RcR_P = 0\n",
    "beta = 1/3*1.24\n",
    "gamma = 1/3\n",
    "\n",
    "def infect(env):\n",
    "    yield env.timeout(np..random.exponential(1/(gamma*ScinfectcI_Scinfect_IcI_Pccure_I)))\n",
    "\n",
    "def cure(env):\n",
    "    pass"
   ]
  }
 ],
 "metadata": {
  "kernelspec": {
   "display_name": "Python 3",
   "language": "python",
   "name": "python3"
  },
  "language_info": {
   "codemirror_mode": {
    "name": "ipython",
    "version": 2
   },
   "file_extension": ".py",
   "mimetype": "text/x-python",
   "name": "python",
   "nbconvert_exporter": "python",
   "pygments_lexer": "ipython2",
   "version": "2.7.15"
  }
 },
 "nbformat": 4,
 "nbformat_minor": 2
}
