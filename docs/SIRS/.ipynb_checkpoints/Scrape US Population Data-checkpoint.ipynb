{
 "cells": [
  {
   "cell_type": "code",
   "execution_count": 22,
   "metadata": {},
   "outputs": [],
   "source": [
    "import pandas as pd\n",
    "\n",
    "frames = pd.read_html('https://en.wikipedia.org/wiki/List_of_U.S._states_by_historical_population#1900%E2%80%932015,_Federal_Reserve_economic_data', header=0)\n",
    "popData = frames[4]\n",
    "popData = popData.rename(columns={popData.columns[0]:'Year'})[100:]\n",
    "popData['HHS 5'] = popData['MN'] + popData['WI'] + popData['IL'] + popData['IN'] + popData['MI'] + popData['OH']\n",
    "\n",
    "popData['HHS 10'] = popData['AK'] + popData['WA'] + popData['OR'] + popData['ID']\n",
    "\n",
    "popData.to_csv('data/population_data.csv')"
   ]
  }
 ],
 "metadata": {
  "kernelspec": {
   "display_name": "Python 3",
   "language": "python",
   "name": "python3"
  },
  "language_info": {
   "codemirror_mode": {
    "name": "ipython",
    "version": 3
   },
   "file_extension": ".py",
   "mimetype": "text/x-python",
   "name": "python",
   "nbconvert_exporter": "python",
   "pygments_lexer": "ipython3",
   "version": "3.6.6"
  }
 },
 "nbformat": 4,
 "nbformat_minor": 2
}
