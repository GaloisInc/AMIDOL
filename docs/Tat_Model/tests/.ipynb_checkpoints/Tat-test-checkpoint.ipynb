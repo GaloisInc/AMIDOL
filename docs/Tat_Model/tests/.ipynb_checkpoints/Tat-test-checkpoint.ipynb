{
 "cells": [
  {
   "cell_type": "code",
   "execution_count": 2,
   "metadata": {},
   "outputs": [],
   "source": [
    "import pandas as pd\n",
    "from scipy.integrate import odeint\n",
    "\n",
    "class state:\n",
    "    def __init__(self,mode=\"dim\"):\n",
    "        if(mode == \"dim\"):\n",
    "            self.tat = 5\n",
    "            self.gfp = 75000\n",
    "            self.ltr = 1\n",
    "        else:\n",
    "            self.tat = 25\n",
    "            self.gfp = 300000\n",
    "            self.ltr = 1\n",
    "            self.nrna = 0\n",
    "            self.crna = 0\n",
    "            self.ptefb_a = 0\n",
    "            self.ptefb_d = 0\n",
    "\n",
    "class params:\n",
    "    def __init__(self):\n",
    "        self.k_basal = .00000010\n",
    "        self.k_export = 0.00072\n",
    "        k1_translate = 0.5\n",
    "        k2_translate = 0.005\n",
    "        self.k_bind = .0010\n",
    "        self.k_unbind = .10\n",
    "        self.k_acetyl = 0.010\n",
    "        self.k_deacetyl = 0.9\n",
    "        self.k_transact = 0.1\n",
    "        \n",
    "  LTR -- k_basal --> LTR + nRNA\n",
    "  nRNA -- k_export --> cRNA\n",
    "  cRNA -- k1_translate --> GFP + cRNA\n",
    "  cRNA -- k2_translate --> Tat + cRNA\n",
    "  Tat <-- k_bind/k_unbind --> pTEFb_d\n",
    "    \n",
    "dnRNAdt = state.ltr * params.k_basal\n",
    "dcRNAdt = params.k_export * state.nrna\n",
    "dGFPdt = params.k1_translate * state.crna\n",
    "dTatdt = params.k2_translate * state.crna - params.k_bind * state.tat + params.k_unbind * state.ptefb_d\n",
    "dpTEFb_ddt = params.k_bind * state.tat - params.k_unbind * state.ptefb_d + params.k_deacetyl * state.ptefb_a\n",
    "dpTEFb_adt = params.k_acetyl * (state.ltr + state.ptefb_d)\n",
    "dLTRdt = params.k_deacetyl * state.ptefb_a\n",
    "\n",
    "  LTR + pTEFb_d <-- k_acetyl/k_deacetyl --> pTEFb_a\n",
    "  pTEFb_a -- k_transact --> LTR + nRNA + Tat\n",
    "  GFP -- d_GFP --> 0\n",
    "  Tat -- d_Tat --> 0\n",
    "  cRNA -- d_CYT --> 0\n",
    "  nRNA -- d_NUC --> 0\n",
    "\n",
    "\n",
    "        \n",
    "myParams = params()\n",
    "myState = state(mode=\"dim\")"
   ]
  }
 ],
 "metadata": {
  "kernelspec": {
   "display_name": "Python 3",
   "language": "python",
   "name": "python3"
  },
  "language_info": {
   "codemirror_mode": {
    "name": "ipython",
    "version": 2
   },
   "file_extension": ".py",
   "mimetype": "text/x-python",
   "name": "python",
   "nbconvert_exporter": "python",
   "pygments_lexer": "ipython2",
   "version": "2.7.15"
  }
 },
 "nbformat": 4,
 "nbformat_minor": 2
}
