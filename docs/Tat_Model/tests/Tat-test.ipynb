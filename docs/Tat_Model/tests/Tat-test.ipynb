{
 "cells": [
  {
   "cell_type": "code",
   "execution_count": 97,
   "metadata": {},
   "outputs": [
    {
     "name": "stdout",
     "output_type": "stream",
     "text": [
      "Done\n"
     ]
    }
   ],
   "source": [
    "import pandas as pd\n",
    "from scipy.integrate import odeint\n",
    "import matplotlib.pyplot as plt\n",
    "import numpy as np\n",
    "%matplotlib inline\n",
    "\n",
    "class state:\n",
    "    def __init__(self,mode=\"dim\"):\n",
    "        if(mode == \"dim\"):\n",
    "            self.tat = 5\n",
    "            self.gfp = 75000\n",
    "            self.ltr = 1\n",
    "        else:\n",
    "            self.tat = 25\n",
    "            self.gfp = 300000\n",
    "            self.ltr = 1\n",
    "        self.nrna = 0\n",
    "        self.crna = 0\n",
    "        self.ptefb_a = 0\n",
    "        self.ptefb_d = 0\n",
    "        \n",
    "    def toTuple(self):\n",
    "        ret = (self.tat, self.gfp, self.ltr, self.nrna, self.crna, self.ptefb_a, self.ptefb_d)\n",
    "        return(ret)\n",
    "        \n",
    "    def fromTuple(self, theTuple):\n",
    "        self.tat = theTuple[0]\n",
    "        self.gfp = theTuple[1]\n",
    "        self.ltr = theTuple[2]\n",
    "        self.nrna = theTuple[3]\n",
    "        self.crna = theTuple[4]\n",
    "        self.ptefb_a = theTuple[5]\n",
    "        self.ptefb_d = theTuple[6]\n",
    "\n",
    "class params:\n",
    "    def __init__(self):\n",
    "        self.k_basal = .000000001\n",
    "        self.k_export = 0.00072\n",
    "        self.k1_translate = 0.5\n",
    "        self.k2_translate = 0.00132\n",
    "        self.k_bind = 0.00015\n",
    "        self.k_unbind = 0.017\n",
    "        self.k_acetyl = 0.001\n",
    "        self.k_deacetyl = 0.13\n",
    "        self.k_transact = 0.1\n",
    "        self.d_tat = 0.0000427777\n",
    "        self.d_gfp = 0.00000301\n",
    "        self.d_cyt = 0.000048\n",
    "        self.d_nuc = 0.000048\n",
    "        \n",
    "    def toTuple(self):\n",
    "        ret = (self.k_basal, self.k_export, self.k1_translate, self.k2_translate, self.k_bind, self.k_unbind, \\\n",
    "                self.k_acetyl, self.k_deacetyl, self.k_transact, self.d_tat, self.d_gfp, \\\n",
    "                self.d_cyt, self.d_nuc)\n",
    "        return(ret)\n",
    "        \n",
    "    def fromTuple(self, theTuple):\n",
    "        self.k_basal = float(theTuple[0])\n",
    "        self.k_export = float(theTuple[1])\n",
    "        self.k1_translate = float(theTuple[2])\n",
    "        self.k2_translate = float(theTuple[3])\n",
    "        self.k_bind = float(theTuple[4])\n",
    "        self.k_unbind = float(theTuple[5])\n",
    "        self.k_acetyl = float(theTuple[6])\n",
    "        self.k_deacetyl = float(theTuple[7])\n",
    "        self.k_transact = float(theTuple[8])\n",
    "        self.d_tat = float(theTuple[9])\n",
    "        self.d_gfp = float(theTuple[10])\n",
    "        self.d_cyt = float(theTuple[11])\n",
    "        self.d_nuc = float(theTuple[12])\n",
    "        \n",
    "#  LTR -- k_basal --> LTR + nRNA\n",
    "#  nRNA -- k_export --> cRNA\n",
    "#  cRNA -- k1_translate --> GFP + cRNA\n",
    "#  cRNA -- k2_translate --> Tat + cRNA\n",
    "#  Tat <-- k_bind/k_unbind --> pTEFb_d\n",
    "#  LTR + pTEFb_d <-- k_acetyl/k_deacetyl --> pTEFb_a\n",
    "#  pTEFb_a -- k_transact --> LTR + nRNA + Tat\n",
    "#  GFP -- d_GFP --> 0\n",
    "#  cRNA -- d_CYT --> 0\n",
    "#  Tat -- d_Tat --> 0\n",
    "#  nRNA -- d_NUC --> 0\n",
    "    \n",
    "def deriv(stateTuple, t, k_basal, k_export, k1_translate, k2_translate, k_bind, k_unbind, k_acetyl, k_deacetyl,\\\n",
    "            k_transact, d_tat, d_gfp, d_cyt, d_nuc):\n",
    "    \n",
    "    mystate = state()\n",
    "    mystate.fromTuple(stateTuple)\n",
    "    \n",
    "    dnRNAdt = -1.0*(k_export * mystate.nrna + d_nuc * mystate.nrna) + \\\n",
    "                (k_basal * mystate.ltr + k_transact * mystate.ptefb_a)\n",
    "    dcRNAdt = -1.0*(k1_translate * mystate.crna + k2_translate * mystate.crna + d_cyt * mystate.crna) + \\\n",
    "                (k_export * mystate.nrna + k1_translate * mystate.crna + k2_translate * mystate.crna)\n",
    "    dGFPdt = -1.0*(d_gfp * mystate.gfp) + (k1_translate * mystate.crna)\n",
    "    dTatdt = -1.0*(k_bind * mystate.tat + d_tat * mystate.tat) + \\\n",
    "                (k2_translate * mystate.crna + k_unbind * mystate.ptefb_d + k_transact * mystate.ptefb_a)\n",
    "    dpTEFb_ddt = -1.0 * (k_acetyl * mystate.ptefb_d * mystate.ltr + k_unbind * mystate.ptefb_d) + \\\n",
    "                (k_bind * mystate.tat + k_deacetyl * mystate.ptefb_a)\n",
    "    dpTEFb_adt = -1.0 * (k_transact * mystate.ptefb_a + k_deacetyl * mystate.ptefb_a) + \\\n",
    "                (k_acetyl * mystate.ltr * mystate.ptefb_d)\n",
    "    dLTRdt = -1.0 * (k_basal * mystate.ltr + k_acetyl * mystate.ltr * mystate.ptefb_d) + \\\n",
    "                (k_basal * mystate.ltr + k_transact * mystate.ptefb_a)\n",
    "    \n",
    "    return(dnRNAdt, dcRNAdt, dGFPdt, dTatdt, dpTEFb_ddt, dpTEFb_adt, dLTRdt)\n",
    "\n",
    "modelParams = params()\n",
    "modelState = state(mode=\"dim\")\n",
    "odemax = 100.0\n",
    "odemin = 0.0\n",
    "buckets = 100.0\n",
    "step = (odemax - odemin)/buckets\n",
    "t = list(np.arange(odemin, odemax, step))\n",
    "\n",
    "ret = odeint(deriv, modelState.toTuple(), t, args=modelParams.toTuple())\n",
    "print(\"Done\")"
   ]
  },
  {
   "cell_type": "code",
   "execution_count": 107,
   "metadata": {},
   "outputs": [
    {
     "data": {
      "text/plain": [
       "[<matplotlib.lines.Line2D at 0x140dee0d0>]"
      ]
     },
     "execution_count": 107,
     "metadata": {},
     "output_type": "execute_result"
    },
    {
     "data": {
      "image/png": "[encoded data removed]",
      "text/plain": [
       "<Figure size 864x432 with 1 Axes>"
      ]
     },
     "metadata": {},
     "output_type": "display_data"
    }
   ],
   "source": [
    "plt.style.use('ggplot')\n",
    "fig = plt.figure(figsize=(12,6))\n",
    "ax = fig.add_subplot(1, 1, 1)\n",
    "ax.plot(t, ret.T[0])\n"
   ]
  }
 ],
 "metadata": {
  "kernelspec": {
   "display_name": "Python 3",
   "language": "python",
   "name": "python3"
  },
  "language_info": {
   "codemirror_mode": {
    "name": "ipython",
    "version": 2
   },
   "file_extension": ".py",
   "mimetype": "text/x-python",
   "name": "python",
   "nbconvert_exporter": "python",
   "pygments_lexer": "ipython2",
   "version": "2.7.15"
  }
 },
 "nbformat": 4,
 "nbformat_minor": 2
}
