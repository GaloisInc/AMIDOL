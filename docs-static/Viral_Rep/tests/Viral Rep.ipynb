{
 "cells": [
  {
   "cell_type": "code",
   "execution_count": 2,
   "metadata": {},
   "outputs": [
    {
     "name": "stdout",
     "output_type": "stream",
     "text": [
      "Done\n"
     ]
    }
   ],
   "source": [
    "import pandas as pd\n",
    "from scipy.integrate import odeint\n",
    "import matplotlib.pyplot as plt\n",
    "import numpy as np\n",
    "%matplotlib inline        \n",
    "\n",
    "# genome --k1--> template\n",
    "# template --k2-->\n",
    "# template --k3--> template + genome\n",
    "# genome + struct --k4--> secreted\n",
    "# template --k5--> template + struct\n",
    "# struct --k6--> secreted/degraded\n",
    "\n",
    "    \n",
    "def deriv(stateTuple, t, k1, k2, k3, k4, k5, k6):\n",
    "    \n",
    "    template = stateTuple[0]\n",
    "    genome = stateTuple[1]\n",
    "    struct = stateTuple[2]\n",
    "    \n",
    "    dtemplatedt = -1.0 * (k2 * template + k3 * template + k5 * template) + \\\n",
    "        (k1 * genome + k3 * template + k5 * template)\n",
    "    dgenomedt = -1.0 * (k1 * template + k4 * genome * struct) + \\\n",
    "        (k3 * template)\n",
    "    dstructdt = -1.0 * (k4 * genome * struct + k6 * struct) + \\\n",
    "        (k5 * template)\n",
    "    \n",
    "    return(dtemplatedt, dgenomedt, dstructdt)\n",
    "\n",
    "template = 1.0\n",
    "genome = 0.0\n",
    "struct = 0.0\n",
    "\n",
    "k1 = 0.025\n",
    "k2 = 0.25\n",
    "k3 = 1.0\n",
    "k4 = 7.5 * 10**-6\n",
    "k5 = 1000.0\n",
    "k6 = 1.99\n",
    "\n",
    "odemax = 100.0\n",
    "odemin = 0.0\n",
    "buckets = 1000\n",
    "step = (odemax - odemin)/buckets\n",
    "t = list(np.arange(odemin, odemax, step))\n",
    "\n",
    "ret = odeint(deriv, (template, genome, struct), t, args=(k1, k2, k3, k4, k5, k6))\n",
    "print(\"Done\")"
   ]
  },
  {
   "cell_type": "code",
   "execution_count": 7,
   "metadata": {},
   "outputs": [
    {
     "data": {
      "text/plain": [
       "<matplotlib.collections.PathCollection at 0x11e865d90>"
      ]
     },
     "execution_count": 7,
     "metadata": {},
     "output_type": "execute_result"
    },
    {
     "data": {
      "image/png": "[encoded data removed]",
      "text/plain": [
       "<Figure size 864x432 with 1 Axes>"
      ]
     },
     "metadata": {},
     "output_type": "display_data"
    }
   ],
   "source": [
    "plt.style.use('ggplot')\n",
    "fig = plt.figure(figsize=(12,6))\n",
    "ax = fig.add_subplot(1, 1, 1)\n",
    "ax.scatter(t, ret.T[2])"
   ]
  }
 ],
 "metadata": {
  "kernelspec": {
   "display_name": "Python 3",
   "language": "python",
   "name": "python3"
  },
  "language_info": {
   "codemirror_mode": {
    "name": "ipython",
    "version": 2
   },
   "file_extension": ".py",
   "mimetype": "text/x-python",
   "name": "python",
   "nbconvert_exporter": "python",
   "pygments_lexer": "ipython2",
   "version": "2.7.15"
  }
 },
 "nbformat": 4,
 "nbformat_minor": 2
}
