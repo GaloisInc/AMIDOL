{
 "cells": [
  {
   "cell_type": "code",
   "execution_count": 28,
   "metadata": {},
   "outputs": [
    {
     "name": "stdout",
     "output_type": "stream",
     "text": [
      "[0.499001996007984, 0.3333333333333333, 0.0]\n"
     ]
    }
   ],
   "source": [
    "import numpy as np\n",
    "import itertools\n",
    "import math\n",
    "from tqdm import tqdm_notebook\n",
    "import pandas as pd\n",
    "from scipy.sparse import dok_matrix\n",
    "import matplotlib.pyplot as plt\n",
    "\n",
    "def isExplored(s):\n",
    "    s_coo = s.tocoo()\n",
    "    return set(zip(s_coo.row, s_coo.col))\n",
    "\n",
    "SV = [\"S\", \"I\", \"R\"]\n",
    "SV0 = [\"500\", \"1\", \"0\"]\n",
    "C = [\"gamma\", \"rho\", \"mu\", \"beta\"]\n",
    "CVals = [\"1.0/3.0\", \"1.5\", \"0.0\", \"gamma*rho\"]\n",
    "Phi = [\"(S > 0) and (I > 0)\", \"I > 0\", \"R > 0\"]\n",
    "Delta = [(\"S = S - 1\", \"I = I + 1\"), (\"I = I - 1\", \"R = R + 1\"), (\"R = R - 1\", \"S = S + 1\")]\n",
    "Lambda = [\"beta * S * I / (S+I+R)\", \"gamma * I\", \"mu * R\"]\n",
    "Measures = [(\"S\", [0.0, 100.0, 5.0]), (\"I\", [0.0, 100.0, 5.0]), (\"R\", [0.0, 100.0, 5.0])]\n",
    "\n",
    "for statevar, val in zip(SV, SV0):\n",
    "    locals()[statevar] = eval(val)\n",
    "\n",
    "for constant, val in zip(C, CVals):\n",
    "    locals()[constant] = eval(val)\n",
    "\n",
    "maxsize = sum(map(int, SV0))*len(SV0)\n",
    "initialstate = tuple(map(float, SV0))\n",
    "\n",
    "unexploredState = []\n",
    "unexploredState.append(initialstate)\n",
    "\n",
    "ssg = dok_matrix((maxsize, maxsize), dtype=np.float32)\n",
    "\n",
    "while len(unexploredState) > 0:\n",
    "    nextState = unexploredState.pop(0)\n",
    "    if (not nextState in isExplored(ssg)):\n",
    "        namespace = {}\n",
    "        for statevar, val in zip(SV, nextState):\n",
    "            namespace[statevar] = val\n",
    "        enabled = [(eval(x) and (eval(y) > 0.0)) for x,y in zip(Phi, Lambda)]\n",
    "        currentRates = [eval(x) if y else float(0) for x,y in zip(Lambda, enabled)]\n",
    "        transitions = []\n",
    "        print(currentRates)"
   ]
  }
 ],
 "metadata": {
  "kernelspec": {
   "display_name": "Python 3",
   "language": "python",
   "name": "python3"
  },
  "language_info": {
   "codemirror_mode": {
    "name": "ipython",
    "version": 2
   },
   "file_extension": ".py",
   "mimetype": "text/x-python",
   "name": "python",
   "nbconvert_exporter": "python",
   "pygments_lexer": "ipython2",
   "version": "2.7.15"
  }
 },
 "nbformat": 4,
 "nbformat_minor": 2
}
