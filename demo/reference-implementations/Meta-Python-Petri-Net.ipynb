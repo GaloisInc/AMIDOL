{
 "cells": [
  {
   "cell_type": "code",
   "execution_count": 1,
   "metadata": {},
   "outputs": [],
   "source": [
    "import numpy as np\n",
    "import itertools\n",
    "import math\n",
    "from tqdm import tqdm_notebook\n",
    "import pandas as pd\n",
    "import matplotlib.pyplot as plt\n",
    "import PetriNet\n",
    "\n",
    "SV = [\"S\", \"I\", \"R\"]\n",
    "SV0 = [\"500\", \"1\", \"0\"]\n",
    "C = [\"gamma\", \"rho\", \"mu\", \"beta\"]\n",
    "CVals = [\"1.0/3.0\", \"1.24\", \"0.0\", \"gamma*rho\"]\n",
    "Phi = [\"(S > 0) and (I > 0)\", \"I > 0\", \"R > 0\"]\n",
    "Delta = [(\"S = S - 1\", \"I = I + 1\"), (\"I = I - 1\", \"R = R + 1\"), (\"R = R - 1\", \"S = S + 1\")]\n",
    "Lambda = [\"beta * float(S) * float(I) / float(S+I+R)\", \"gamma * float(I)\", \"mu * float(R)\"]\n",
    "Measures = [(\"S\", [0.0, 100.0, 1.0]), (\"I\", [0.0, 100.0, 1.0]), (\"R\", [0.0, 100.0, 1.0])]\n",
    "t0 = 0.0\n",
    "tMax = 100.0\n",
    "runs = 1000\n",
    "\n",
    "results = PetriNet.metasolve(SV, SV0, C, CVals, Phi, Delta, Lambda, Measures, t0=t0, tMax=tMax, runs=runs)\n",
    "fig, ax = plt.subplots(figsize=(20, 10))\n",
    "for sv in SV:\n",
    "    pCI = [x + y for x,y in zip(results['Mean ' + sv].tolist(), results['Confidence Interval ' + sv].tolist())]\n",
    "    nCI = [x - y for x,y in zip(results['Mean ' + sv].tolist(), results['Confidence Interval ' + sv].tolist())]\n",
    "    ax.plot(list(results.index), results['Mean ' + sv].tolist(), label=sv)\n",
    "    ax.fill_between(list(results.index), nCI, pCI, alpha=.1)\n",
    "    ax.legend()"
   ]
  },
  {
   "cell_type": "code",
   "execution_count": null,
   "metadata": {},
   "outputs": [],
   "source": []
  },
  {
   "cell_type": "code",
   "execution_count": null,
   "metadata": {},
   "outputs": [],
   "source": []
  },
  {
   "cell_type": "code",
   "execution_count": null,
   "metadata": {},
   "outputs": [],
   "source": []
  }
 ],
 "metadata": {
  "kernelspec": {
   "display_name": "Python 3",
   "language": "python",
   "name": "python3"
  },
  "language_info": {
   "codemirror_mode": {
    "name": "ipython",
    "version": 2
   },
   "file_extension": ".py",
   "mimetype": "text/x-python",
   "name": "python",
   "nbconvert_exporter": "python",
   "pygments_lexer": "ipython2",
   "version": "2.7.15"
  }
 },
 "nbformat": 4,
 "nbformat_minor": 2
}
