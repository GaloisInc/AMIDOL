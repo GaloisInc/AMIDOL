{
 "cells": [
  {
   "cell_type": "code",
   "execution_count": 46,
   "metadata": {},
   "outputs": [
    {
     "name": "stdout",
     "output_type": "stream",
     "text": [
      "[((499.0, 2.0, 0.0), 0.499001996007984), ((500.0, 0.0, 1.0), 0.3333333333333333), (None, 0.0)]\n"
     ]
    },
    {
     "data": {
      "text/plain": [
       "251001"
      ]
     },
     "execution_count": 46,
     "metadata": {},
     "output_type": "execute_result"
    }
   ],
   "source": [
    "import numpy as np\n",
    "import itertools\n",
    "import math\n",
    "from tqdm import tqdm_notebook\n",
    "import pandas as pd\n",
    "from scipy.sparse import dok_matrix\n",
    "import matplotlib.pyplot as plt\n",
    "\n",
    "def isExplored(s):\n",
    "    s_coo = s.tocoo()\n",
    "    return set(zip(s_coo.row, s_coo.col))\n",
    "\n",
    "SV = [\"S\", \"I\", \"R\"]\n",
    "SV0 = [\"500\", \"1\", \"0\"]\n",
    "C = [\"gamma\", \"rho\", \"mu\", \"beta\"]\n",
    "CVals = [\"1.0/3.0\", \"1.24\", \"0.0\", \"gamma*rho\"]\n",
    "Phi = [\"(S > 0) and (I > 0)\", \"I > 0\", \"R > 0\"]\n",
    "Delta = [(\"S = S - 1\", \"I = I + 1\"), (\"I = I - 1\", \"R = R + 1\"), (\"R = R - 1\", \"S = S + 1\")]\n",
    "Lambda = [\"beta * S * I / (S+I+R)\", \"gamma * I\", \"mu * R\"]\n",
    "Measures = [(\"S\", [0.0, 100.0, 5.0]), (\"I\", [0.0, 100.0, 5.0]), (\"R\", [0.0, 100.0, 5.0])]\n",
    "\n",
    "namespace ={}\n",
    "\n",
    "for statevar, val in zip(SV, SV0):\n",
    "    namespace[statevar] = eval(val, namespace)\n",
    "\n",
    "for constant, val in zip(C, CVals):\n",
    "    namespace[constant] = eval(val, namespace)\n",
    "\n",
    "maxsize = sum(map(int, SV0))*sum(map(int, SV0))\n",
    "initialstate = tuple(map(float, SV0))\n",
    "\n",
    "unexploredState = []\n",
    "unexploredState.append(initialstate)\n",
    "\n",
    "ssg = dok_matrix((maxsize, maxsize), dtype=np.float32)\n",
    "\n",
    "while len(unexploredState) > 0:\n",
    "    nextState = unexploredState.pop(0)\n",
    "    if (not nextState in isExplored(ssg)):\n",
    "        for statevar, val in zip(SV, nextState):\n",
    "            namespace[statevar] = val\n",
    "        enabled = [(eval(x, namespace) and (eval(y, namespace) > 0.0)) for x,y in zip(Phi, Lambda)]\n",
    "        currentRates = [eval(x, namespace) if y else float(0) for x,y in zip(Lambda, enabled)]\n",
    "        transitions = [x if y > 0 else None for x,y in zip(Delta, currentRates)]\n",
    "        stateStep = []\n",
    "        for transition in transitions:\n",
    "            if (transition is not None):\n",
    "                tspace = {}\n",
    "                for statevar, val in zip(SV, nextState):\n",
    "                    tspace[statevar] = val\n",
    "                for formula in transition:\n",
    "                    exec(formula, tspace)\n",
    "                stateStep.append((tspace['S'], tspace['I'], tspace['R']))\n",
    "            else:\n",
    "                stateStep.append(None)\n",
    "        print(zip(stateStep, currentRates))"
   ]
  },
  {
   "cell_type": "code",
   "execution_count": null,
   "metadata": {},
   "outputs": [],
   "source": []
  }
 ],
 "metadata": {
  "kernelspec": {
   "display_name": "Python 3",
   "language": "python",
   "name": "python3"
  },
  "language_info": {
   "codemirror_mode": {
    "name": "ipython",
    "version": 2
   },
   "file_extension": ".py",
   "mimetype": "text/x-python",
   "name": "python",
   "nbconvert_exporter": "python",
   "pygments_lexer": "ipython2",
   "version": "2.7.15"
  }
 },
 "nbformat": 4,
 "nbformat_minor": 2
}
